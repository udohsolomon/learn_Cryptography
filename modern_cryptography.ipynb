{
 "cells": [
  {
   "cell_type": "markdown",
   "metadata": {},
   "source": [
    "# Modern Cryptography\n",
    "\n",
    "Generally speaking there are two *kinds* of encryption: symmetric and asymmetric.\n",
    "\n",
    "In symmetric encryption, the parties involved share the ***same*** key.\n",
    "\n",
    "In asymmetric encryption, the parties use ***different*** keys, that are mathematically ***related*** to each other.\n",
    "\n",
    "<img src=\"img/sym_vs_asym.png\" width=\"750\">\n",
    "\n",
    "## Symmetric Encryption\n",
    "\n",
    "In the following, we look at symmetric encryption algorithms. In symmetric crypto, we use the same key for encryption and decryption. **Therefore, the two parties need to establish a secret key between them.** Symmetric encryption can be up to 1000 times faster than asymmetric encryption. Given the support of some crypto algorithm in the CPU and at hardware level, even faster.\n",
    "\n",
    "### Advanced Encryption Algorithm (AES)\n",
    "\n",
    "AES is based on Rijndael encryption algorithm, designed by Joan Daemen and Vincent Rijmen. It was one of the algorithms submitted to U.S. National Institute of Standards and Technology (NIST) to replace DES and 3DES. It was published in 1998 and accepted and standardized in 2001.\n",
    "\n",
    " * AES supports key sizes of 128/192/256 bits\n",
    " * Block size: 128 bit\n",
    " * It's iterative rather than Feistel cipher\n",
    " * Treats data in 4 groups of 4 bytes\n",
    " * Operates on an entire block in every round\n",
    " * Resistant against known attacks\n",
    " * Speed and code compactness on many CPUs\n",
    " * Rijndael block and key size vary between 128, 192, 256\n",
    " * However, in AES block size in 128\n",
    " * Number of rounds a function of key size\n",
    "  * 128 bits     10 rounds\n",
    "  * 192 bits     12 rounds\n",
    "  * 256 bits     14 rounds\n",
    "\n",
    " * Today most implementations use the CPU support (Intel AES-NI)\n",
    "\n",
    "### Block cipher mode of operation\n",
    "\n",
    "To encrypt messages of arbitrary size with block ciphers, we use the following algorithms, called the modes of operation. They define how to encrypt each block of the plaintext to produce the corresponding cipher text block. Some of these are completely insecure (ECB) and should not be used.\n",
    "\n",
    " * Electronic Codebook (ECB)\n",
    " * Cipher Block Chaining (CBC)\n",
    " * Counter (CTR)\n",
    " \n",
    " \n",
    "### Electronic Codebook (ECB)\n",
    "\n",
    "<img src=\"img/ECB_enc.png\">\n",
    "<img src=\"img/ECB_dec.png\">\n",
    "\n",
    "\n",
    "\n",
    "### Cipher Block Chaining (CBC)\n",
    "\n",
    "<img src=\"img/CBC_enc.png\">\n",
    "<img src=\"img/CBC_dec.png\">\n",
    "\n",
    "\n",
    "\n",
    "### Counter (CTR)\n",
    "\n",
    "<img src=\"img/CTR_enc.png\">\n",
    "<img src=\"img/CTR_dec.png\">\n",
    "\n",
    "\n",
    "## SHA Family\n",
    "\n",
    "Secure Hash Algorithm (SHA) family, is a series of hashing algorithms.\n",
    "\n",
    "    Ranging from SHA-0 to SHA-3. \n",
    "    SHA-0 should never be used. \n",
    "    It's advised to move from SHA-1 to SHA-2. \n",
    "    SHA-3 is the most recent version, published in 2015.\n",
    "\n",
    "\n",
    "    SHA-1: Digest size (160), Block size (512)\n",
    "    SHA-2: Digest size (224, 256, 384, or 512), Block size (512, 1024)\n",
    "    SHA-3: Digest size (224, 256, 384, 512), Block size (1600)\n"
   ]
  },
  {
   "cell_type": "code",
   "execution_count": null,
   "metadata": {},
   "outputs": [],
   "source": [
    "hashes."
   ]
  },
  {
   "cell_type": "code",
   "execution_count": 3,
   "metadata": {},
   "outputs": [
    {
     "name": "stdout",
     "output_type": "stream",
     "text": [
      "msg_digest: 32 256\n",
      "base64 encoding: b'Ac3zIwNL0+Tm2TwmwUiZXIKzQ5Wy+ON7DdisgBdw8Ys='\n",
      "\n",
      "**********************************************************************\n",
      "msg_digest: 32 256\n",
      "base64 encoding: b'e0X8i9hmsRwIC11vopL7wF+2M5sMcfkq5KNRAaPlSdA='\n",
      "\n",
      "**********************************************************************\n",
      "msg_digest: 32 256\n",
      "base64 encoding: b'RWc2f3CGpkZMWeVBtl7dbqMYmoYmGgGML3egCvrUh3E='\n"
     ]
    }
   ],
   "source": [
    "from cryptography.hazmat.backends import default_backend\n",
    "from cryptography.hazmat.primitives import hashes\n",
    "import base64 # to produce human readable encoding of the bytes\n",
    "\n",
    "digest = hashes.Hash(hashes.SHA256(), backend=default_backend())\n",
    "digest.update(b\"Cryptography Class2019\")\n",
    "# digest.update(b\"2019\")\n",
    "msg_digest = digest.finalize()\n",
    "# Notice the output size of the digest\n",
    "print (\"msg_digest:\", len(msg_digest), len(msg_digest) * 8)\n",
    "print (\"base64 encoding:\", base64.b64encode(msg_digest))\n",
    "\n",
    "print()\n",
    "print('*'*70)\n",
    "\n",
    "digest = hashes.Hash(hashes.SHA256(), backend=default_backend())\n",
    "digest.update(b\"Cryptography Class 2019\")\n",
    "msg_digest = digest.finalize()\n",
    "# Notice the output size of the digest\n",
    "print (\"msg_digest:\", len(msg_digest), len(msg_digest) * 8)\n",
    "print (\"base64 encoding:\", base64.b64encode(msg_digest))\n",
    "\n",
    "print()\n",
    "print('*'*70)\n",
    "\n",
    "digest = hashes.Hash(hashes.SHA256(), backend=default_backend())\n",
    "digest.update(b\"Cryptography Class 2018\")\n",
    "msg_digest = digest.finalize()\n",
    "# Notice the output size of the digest\n",
    "print (\"msg_digest:\", len(msg_digest), len(msg_digest) * 8)\n",
    "print (\"base64 encoding:\", base64.b64encode(msg_digest))"
   ]
  },
  {
   "cell_type": "code",
   "execution_count": 4,
   "metadata": {},
   "outputs": [
    {
     "name": "stdout",
     "output_type": "stream",
     "text": [
      "sha1 20 160 \n",
      " b'33aBOypIgAiFptpOz7tyEvg6Ock=' \n",
      "\n",
      "sha224 28 224 \n",
      " b'xYr2ZdcSZACj2j52Lg/YlS5vSvJImM5zcI4Txg==' \n",
      "\n",
      "sha256 32 256 \n",
      " b'e0X8i9hmsRwIC11vopL7wF+2M5sMcfkq5KNRAaPlSdA=' \n",
      "\n",
      "sha384 48 384 \n",
      " b'ayosYcv2ijTBVNlSKg4jchpXYzrzRA9036wwGaNBiEtinvqYt0KxyY3pzChv9nUs' \n",
      "\n",
      "sha512 64 512 \n",
      " b'qdMZZ/v008yB+PqPBkFki04UJQjL8S1PIeiCDxU9FbFsxFpFqjTmg9Cst0OXn2Dzwp9x4TChQfWB6AfxmZA81w==' \n",
      "\n"
     ]
    }
   ],
   "source": [
    "from cryptography.hazmat.backends import default_backend\n",
    "from cryptography.hazmat.primitives import hashes\n",
    "import base64 # to produce human readable encoding of the binary bytes\n",
    "\n",
    "for _hash in [hashes.SHA1, hashes.SHA224, hashes.SHA256, hashes.SHA384, hashes.SHA512]:\n",
    "    digest = hashes.Hash(_hash(), backend=default_backend())\n",
    "    digest.update(b\"Cryptography Class 2019\")\n",
    "    # digest.update(b\"2019\")\n",
    "    msg_digest = digest.finalize()\n",
    "    # Notice the output size of the digest\n",
    "    print(_hash.name, len(msg_digest), len(msg_digest) * 8,'\\n', base64.b64encode(msg_digest), '\\n')"
   ]
  },
  {
   "cell_type": "code",
   "execution_count": 14,
   "metadata": {},
   "outputs": [],
   "source": [
    "import os\n",
    "from cryptography.hazmat.primitives.ciphers import Cipher, algorithms, modes\n",
    "from cryptography.hazmat.backends import default_backend\n",
    "key = os.urandom(16) # in bytes, 128 bits\n",
    "iv = os.urandom(16)"
   ]
  },
  {
   "cell_type": "code",
   "execution_count": 6,
   "metadata": {},
   "outputs": [],
   "source": [
    "# ECB Mode, we only need a key\n",
    "### *** DO NOT USE ECB. IT IS INSECURE *** ###\n",
    "\n",
    "cipher = Cipher(algorithms.AES(key), modes.ECB(), backend=default_backend())\n",
    "encryptor = cipher.encryptor()\n",
    "# note that we don't need padding here, since len(\"Cryptography2019\") = 16\n",
    "cipher_text = encryptor.update(b\"Cryptography2019\") + encryptor.finalize()"
   ]
  },
  {
   "cell_type": "code",
   "execution_count": 7,
   "metadata": {},
   "outputs": [
    {
     "data": {
      "text/plain": [
       "b'\\x9a\\x7f\\xb7\\x8a\\xe2P\\x7f2\\xd6\\xa9\\x9e%\\xe2R0\\x90'"
      ]
     },
     "execution_count": 7,
     "metadata": {},
     "output_type": "execute_result"
    }
   ],
   "source": [
    "cipher_text"
   ]
  },
  {
   "cell_type": "code",
   "execution_count": 8,
   "metadata": {},
   "outputs": [
    {
     "name": "stdout",
     "output_type": "stream",
     "text": [
      "16\n"
     ]
    }
   ],
   "source": [
    "print (len(cipher_text))"
   ]
  },
  {
   "cell_type": "code",
   "execution_count": 9,
   "metadata": {},
   "outputs": [
    {
     "data": {
      "text/plain": [
       "b'Cryptography2019'"
      ]
     },
     "execution_count": 9,
     "metadata": {},
     "output_type": "execute_result"
    }
   ],
   "source": [
    "decryptor = cipher.decryptor()\n",
    "decryptor.update(cipher_text) + decryptor.finalize()"
   ]
  },
  {
   "cell_type": "code",
   "execution_count": 15,
   "metadata": {},
   "outputs": [],
   "source": [
    "# CBC Mode, we also need an IV\n",
    "cipher = Cipher(algorithms.AES(key), modes.CBC(iv), backend=default_backend())\n",
    "encryptor = cipher.encryptor()\n",
    "# note that we don't need padding here, since len(\"Cryptography2019\") = 16\n",
    "cipher_text = encryptor.update(b\"Cryptography2019\") + encryptor.finalize()"
   ]
  },
  {
   "cell_type": "code",
   "execution_count": 16,
   "metadata": {},
   "outputs": [
    {
     "data": {
      "text/plain": [
       "b'\\xe6\\n\\xd3a\\x93\\x8a\\xa0Y\\xa0\\x1a1\\xc8\\x85T\\xb3H'"
      ]
     },
     "execution_count": 16,
     "metadata": {},
     "output_type": "execute_result"
    }
   ],
   "source": [
    "cipher_text"
   ]
  },
  {
   "cell_type": "code",
   "execution_count": 17,
   "metadata": {},
   "outputs": [
    {
     "data": {
      "text/plain": [
       "b'Cryptography2019'"
      ]
     },
     "execution_count": 17,
     "metadata": {},
     "output_type": "execute_result"
    }
   ],
   "source": [
    "decryptor = cipher.decryptor()\n",
    "decryptor.update(cipher_text) + decryptor.finalize()"
   ]
  },
  {
   "cell_type": "code",
   "execution_count": 18,
   "metadata": {},
   "outputs": [],
   "source": [
    "# CTR Mode, we don't need padding in CTR mode. In transforms a block cipher into a stream cipher\n",
    "# we only need to introduce the nonce\n",
    "cipher = Cipher(algorithms.AES(key), modes.CTR(os.urandom(16)), backend=default_backend())\n",
    "encryptor = cipher.encryptor()\n",
    "# len(b\"Cryptography Class 2019\") = 23, however no padding is needed.\n",
    "cipher_text = encryptor.update(b\"Cryptography Class 2019\") + encryptor.finalize()"
   ]
  },
  {
   "cell_type": "code",
   "execution_count": 19,
   "metadata": {},
   "outputs": [
    {
     "data": {
      "text/plain": [
       "b'9\\xbdI4yL=I\\xf8z\\t\\x84\\x8abR\\xb507\\xf5>\\x0b\\x0e\\xc2'"
      ]
     },
     "execution_count": 19,
     "metadata": {},
     "output_type": "execute_result"
    }
   ],
   "source": [
    "cipher_text"
   ]
  },
  {
   "cell_type": "markdown",
   "metadata": {},
   "source": [
    "## *<font color=\" #6495ED\">Exercise</font>*\n",
    "\n",
    " - Encrypt the file following text using the ECB, and CBC or CTR mode and compare the results."
   ]
  },
  {
   "cell_type": "code",
   "execution_count": 20,
   "metadata": {},
   "outputs": [],
   "source": [
    "plain_text = b\"Cryptography2019\" * 128"
   ]
  },
  {
   "cell_type": "code",
   "execution_count": 21,
   "metadata": {},
   "outputs": [
    {
     "data": {
      "text/plain": [
       "b'Cryptography2019Cryptography2019Cryptography2019Cryptography2019Cryptography2019Cryptography2019Cryptography2019Cryptography2019Cryptography2019Cryptography2019Cryptography2019Cryptography2019Cryptography2019Cryptography2019Cryptography2019Cryptography2019Cryptography2019Cryptography2019Cryptography2019Cryptography2019Cryptography2019Cryptography2019Cryptography2019Cryptography2019Cryptography2019Cryptography2019Cryptography2019Cryptography2019Cryptography2019Cryptography2019Cryptography2019Cryptography2019Cryptography2019Cryptography2019Cryptography2019Cryptography2019Cryptography2019Cryptography2019Cryptography2019Cryptography2019Cryptography2019Cryptography2019Cryptography2019Cryptography2019Cryptography2019Cryptography2019Cryptography2019Cryptography2019Cryptography2019Cryptography2019Cryptography2019Cryptography2019Cryptography2019Cryptography2019Cryptography2019Cryptography2019Cryptography2019Cryptography2019Cryptography2019Cryptography2019Cryptography2019Cryptography2019Cryptography2019Cryptography2019Cryptography2019Cryptography2019Cryptography2019Cryptography2019Cryptography2019Cryptography2019Cryptography2019Cryptography2019Cryptography2019Cryptography2019Cryptography2019Cryptography2019Cryptography2019Cryptography2019Cryptography2019Cryptography2019Cryptography2019Cryptography2019Cryptography2019Cryptography2019Cryptography2019Cryptography2019Cryptography2019Cryptography2019Cryptography2019Cryptography2019Cryptography2019Cryptography2019Cryptography2019Cryptography2019Cryptography2019Cryptography2019Cryptography2019Cryptography2019Cryptography2019Cryptography2019Cryptography2019Cryptography2019Cryptography2019Cryptography2019Cryptography2019Cryptography2019Cryptography2019Cryptography2019Cryptography2019Cryptography2019Cryptography2019Cryptography2019Cryptography2019Cryptography2019Cryptography2019Cryptography2019Cryptography2019Cryptography2019Cryptography2019Cryptography2019Cryptography2019Cryptography2019Cryptography2019Cryptography2019Cryptography2019Cryptography2019Cryptography2019Cryptography2019'"
      ]
     },
     "execution_count": 21,
     "metadata": {},
     "output_type": "execute_result"
    }
   ],
   "source": [
    "plain_text"
   ]
  },
  {
   "cell_type": "code",
   "execution_count": 22,
   "metadata": {},
   "outputs": [],
   "source": [
    "def print_text(text, b64=False):\n",
    "    for i in range(0, 128, 16):\n",
    "        if b64:\n",
    "            pt = base64.b64encode(text[i:i+16])\n",
    "        else:\n",
    "            pt = text[i:i+16]\n",
    "        print(pt)"
   ]
  },
  {
   "cell_type": "code",
   "execution_count": 23,
   "metadata": {},
   "outputs": [],
   "source": [
    "import os\n",
    "from cryptography.hazmat.backends import default_backend\n",
    "from cryptography.hazmat.primitives.ciphers import Cipher, algorithms, modes\n",
    "import base64 # to produce human readable encoding of the bytes\n",
    "key = os.urandom(16) # in bytes, 128 bits\n",
    "\n",
    "cipher = Cipher(algorithms.AES(key), modes.ECB(), backend=default_backend())\n",
    "encryptor = cipher.encryptor()\n",
    "ecb_ct = encryptor.update(plain_text) + encryptor.finalize()"
   ]
  },
  {
   "cell_type": "code",
   "execution_count": 24,
   "metadata": {},
   "outputs": [
    {
     "name": "stdout",
     "output_type": "stream",
     "text": [
      "b'\\x1a\\xbd\\xe8\\xab\\xec\\xdbe\\xaf\\xc8\\xb9s\\xab\\xe8\\x05\\x16\\xbb'\n",
      "b'\\x1a\\xbd\\xe8\\xab\\xec\\xdbe\\xaf\\xc8\\xb9s\\xab\\xe8\\x05\\x16\\xbb'\n",
      "b'\\x1a\\xbd\\xe8\\xab\\xec\\xdbe\\xaf\\xc8\\xb9s\\xab\\xe8\\x05\\x16\\xbb'\n",
      "b'\\x1a\\xbd\\xe8\\xab\\xec\\xdbe\\xaf\\xc8\\xb9s\\xab\\xe8\\x05\\x16\\xbb'\n",
      "b'\\x1a\\xbd\\xe8\\xab\\xec\\xdbe\\xaf\\xc8\\xb9s\\xab\\xe8\\x05\\x16\\xbb'\n",
      "b'\\x1a\\xbd\\xe8\\xab\\xec\\xdbe\\xaf\\xc8\\xb9s\\xab\\xe8\\x05\\x16\\xbb'\n",
      "b'\\x1a\\xbd\\xe8\\xab\\xec\\xdbe\\xaf\\xc8\\xb9s\\xab\\xe8\\x05\\x16\\xbb'\n",
      "b'\\x1a\\xbd\\xe8\\xab\\xec\\xdbe\\xaf\\xc8\\xb9s\\xab\\xe8\\x05\\x16\\xbb'\n"
     ]
    }
   ],
   "source": [
    "print_text(ecb_ct)"
   ]
  },
  {
   "cell_type": "code",
   "execution_count": 25,
   "metadata": {},
   "outputs": [],
   "source": [
    "cipher = Cipher(algorithms.AES(key), modes.CBC(iv), backend=default_backend())\n",
    "encryptor = cipher.encryptor()\n",
    "cbc_ct = encryptor.update(plain_text) + encryptor.finalize()"
   ]
  },
  {
   "cell_type": "code",
   "execution_count": 26,
   "metadata": {},
   "outputs": [
    {
     "name": "stdout",
     "output_type": "stream",
     "text": [
      "b'\\xe2\\x1b\\x04\\xfe\\x08\\xc8\\x1c%mm\\xf8O\\xa2i\\r\\x0c'\n",
      "b'\\xb2\\x8d@\\xd9Q\\xb7\\xd2\\x0e\\x9fT3\\xdc\\xa7\\x84\\x84P'\n",
      "b'G\\xfe\\xb7\\x81\\xd4\\xf9\\xa5\\x94\\x92!\\xcb@\\xb5\\x87U\\xf1'\n",
      "b'pT\\xdc\\xd9\\xael\\xdd[0\\x9ek\\xf4g1G\\x02'\n",
      "b'OO\\x18\\x07\\xf2\\xe9\\xfe=\\xbe\\x14@\\xa5\\x81R\\x1e\\xca'\n",
      "b'\\xf6\\xf4\\x039\\xcb\\x7f\\x0f\\x90\\xc9L\\x81\\xba\\x19\\xed\\x95\\x1a'\n",
      "b'Z\\xe30\\x92\\xd6\\xe7\\xb1C\\xa3\\xd38%d\\xc4\\x83U'\n",
      "b'\\x005\\x17\\x95\\xc7?\\xe1\\xa7\\x14\\xa9T\\x80\\xb4\\xdbs\\xad'\n"
     ]
    }
   ],
   "source": [
    "print_text(cbc_ct)"
   ]
  },
  {
   "cell_type": "code",
   "execution_count": 27,
   "metadata": {},
   "outputs": [],
   "source": [
    "cipher = Cipher(algorithms.AES(key), modes.CTR(os.urandom(16)), backend=default_backend())\n",
    "encryptor = cipher.encryptor()\n",
    "ctr_ct = encryptor.update(plain_text) + encryptor.finalize()"
   ]
  },
  {
   "cell_type": "code",
   "execution_count": 28,
   "metadata": {},
   "outputs": [
    {
     "name": "stdout",
     "output_type": "stream",
     "text": [
      "b'\\xdb\\xa0\\xb09\\xb7\\x01\\x92:?\\xb8z\\xd0\\x1dq\\xdb\\xbb'\n",
      "b'\\xfa\\xbb\\x01\\x07\\xdaD\\x1f\\xbd\\n\\xaen\\xc4\\x83\\xd5\\xf6\\x9f'\n",
      "b'\\xaf\\xd8&\\xc8\\xcc\\x16]\\x9e\\xcd\\xa0Q\\xa3_#%\\x80'\n",
      "b'W$\\xf05\\xf0e\\x06\\x8a\\x84\\xbc\\x87\\x13.\\xfe\\xd4\\xb1'\n",
      "b'\\xf2L\\xd8\\xc2\\xa8?\\xef\\x90\\xec\\xb8Y\\x9c\\xd7\\xe2\\xa76'\n",
      "b'\\xb3\\x95\\xa3+V>\\xf3\\xb8\\xe7\\xd5{6\\x1fQ\\xbf\\xfa'\n",
      "b'\\x05XAz\\xc0j\\x03_\\xe3\\xb8w~g\\xafg+'\n",
      "b'\\xd7\\xd0\\xecG\\xddJ\\xf42\\xa2\\xfd6\\xe1\\x14p\\xf1\\xbd'\n"
     ]
    }
   ],
   "source": [
    "print_text(ctr_ct)"
   ]
  },
  {
   "cell_type": "code",
   "execution_count": null,
   "metadata": {},
   "outputs": [],
   "source": [
    "import PIL\n",
    "\n",
    "with open('img/tux.png', 'rb') as f:\n",
    "    clear = f.read()\n",
    "    \n",
    "len(clear)\n",
    "len(clear)%16\n",
    "clear_trimmed = clear[64:-2]\n",
    "len(clear_trimmed)%16"
   ]
  },
  {
   "cell_type": "code",
   "execution_count": null,
   "metadata": {},
   "outputs": [],
   "source": [
    "cipher = Cipher(algorithms.AES(key), modes.ECB(), backend=default_backend())\n",
    "encryptor = cipher.encryptor()\n",
    "ecb_ct = encryptor.update(clear_trimmed) + encryptor.finalize()"
   ]
  },
  {
   "cell_type": "code",
   "execution_count": null,
   "metadata": {},
   "outputs": [],
   "source": [
    "with open('img/tux_ecb.png', 'wb') as f:\n",
    "    f.write(ecb_ct)"
   ]
  },
  {
   "cell_type": "code",
   "execution_count": null,
   "metadata": {},
   "outputs": [],
   "source": []
  }
 ],
 "metadata": {
  "kernelspec": {
   "display_name": "Python 3",
   "language": "python",
   "name": "python3"
  },
  "language_info": {
   "codemirror_mode": {
    "name": "ipython",
    "version": 3
   },
   "file_extension": ".py",
   "mimetype": "text/x-python",
   "name": "python",
   "nbconvert_exporter": "python",
   "pygments_lexer": "ipython3",
   "version": "3.6.5"
  }
 },
 "nbformat": 4,
 "nbformat_minor": 2
}
